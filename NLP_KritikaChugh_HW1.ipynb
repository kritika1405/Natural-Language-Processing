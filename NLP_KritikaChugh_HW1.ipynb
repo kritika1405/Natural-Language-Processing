{
 "cells": [
  {
   "cell_type": "code",
   "execution_count": 84,
   "metadata": {},
   "outputs": [],
   "source": [
    "import json\n",
    "import numpy as np\n",
    "import chardet\n",
    "import nltk\n",
    "import pandas as pd\n",
    "\n",
    "\n",
    "filtered_columns = ['title', 'published', ]\n",
    "df1 = pd.read_json('16119_webhose_2020_01_db21c91a1ab47385bb13773ed8238c31_0000002.json', lines=True)\n",
    "df2 = pd.read_json('16119_webhose_2020_02_db21c91a1ab47385bb13773ed8238c31_0000002.json', lines=True)\n",
    "listdf = df1.thread.values.flatten()\n",
    "listdf2 = df2.thread.values.flatten()\n",
    "#print (listdf)\n",
    "df1_new = pd.json_normalize(listdf, max_level=2)\n",
    "df2_new = pd.json_normalize(listdf2,max_level=2)\n",
    "#print(df1_new)\n",
    "#\"facebook\":{…}, \"title\", \"published\", \"replies_count\", \"author\", \"url\", \"country\", \"text\".\n",
    "df_csv_filter = df1_new.filter(items=['social.facebook.comments','social.facebook.shares','social.facebook.likes','title','published','replies_count','author','url','country','text'])\n",
    "df_csv_filter2 = df2_new.filter(items=['social.facebook.comments','social.facebook.shares','social.facebook.likes','title','published','replies_count','author','url','country','text'])\n",
    "#print(df1_new.columns)\n",
    "df_csv_filter['author'] = df1['author']\n",
    "df_csv_filter['text'] = df1['text']\n",
    "df_csv_filter2['author'] = df2['author']\n",
    "df_csv_filter2['text'] = df2['text']\n",
    "\n",
    "df_csv_filter_combined = pd.concat([df_csv_filter2,df_csv_filter])\n",
    "#print(df_csv_filter.head())\n",
    "df_csv_filter_combined.to_csv('out_final.csv', index=False)\n",
    "\n",
    "\n"
   ]
  },
  {
   "cell_type": "code",
   "execution_count": 85,
   "metadata": {},
   "outputs": [],
   "source": [
    "textcol = df_csv_filter_combined['text'].to_string(header = False, index = False)"
   ]
  },
  {
   "cell_type": "code",
   "execution_count": 142,
   "metadata": {},
   "outputs": [
    {
     "name": "stdout",
     "output_type": "stream",
     "text": [
      "(10956, 10)\n",
      "(95061, 10)\n",
      "(106017, 10)\n"
     ]
    }
   ],
   "source": [
    "print(df_csv_filter.shape)\n",
    "print(df_csv_filter2.shape)\n",
    "print(df_csv_filter_combined.shape)"
   ]
  },
  {
   "cell_type": "code",
   "execution_count": 87,
   "metadata": {},
   "outputs": [
    {
     "name": "stdout",
     "output_type": "stream",
     "text": [
      "1008434\n"
     ]
    }
   ],
   "source": [
    "#tokenization\n",
    "import nltk\n",
    "tokens = nltk.word_tokenize(textcol)\n",
    "print(len(tokens))\n"
   ]
  },
  {
   "cell_type": "code",
   "execution_count": 88,
   "metadata": {},
   "outputs": [
    {
     "name": "stdout",
     "output_type": "stream",
     "text": [
      "1008434\n"
     ]
    }
   ],
   "source": [
    "#convert all to lowercase\n",
    "lowercase_words = [w.lower( ) for w in tokens] \n",
    "lowercase_words[:30]\n",
    "print(len(lowercase_words))"
   ]
  },
  {
   "cell_type": "code",
   "execution_count": 89,
   "metadata": {},
   "outputs": [
    {
     "name": "stdout",
     "output_type": "stream",
     "text": [
      "748264\n"
     ]
    }
   ],
   "source": [
    "#remove all non-alphabetic characters \n",
    "revised_words = [w for w in lowercase_words if w.isalpha()]\n",
    "#revised_words[:30]\n",
    "print(len(revised_words))"
   ]
  },
  {
   "cell_type": "code",
   "execution_count": 91,
   "metadata": {},
   "outputs": [
    {
     "name": "stdout",
     "output_type": "stream",
     "text": [
      "512195\n"
     ]
    }
   ],
   "source": [
    "#remove all stop words a, an, the\n",
    "stopwords = nltk.corpus.stopwords.words('english')\n",
    "stopped_words = [w for w in revised_words if w not in stopwords]\n",
    "stopped_words[:30]\n",
    "print(len(stopped_words))"
   ]
  },
  {
   "cell_type": "code",
   "execution_count": 92,
   "metadata": {},
   "outputs": [
    {
     "name": "stdout",
     "output_type": "stream",
     "text": [
      "512195\n"
     ]
    }
   ],
   "source": [
    "#Lemmatization\n",
    "wnl = nltk.WordNetLemmatizer()\n",
    "lemmatized_words = [wnl.lemmatize(t) for t in stopped_words]\n",
    "lemmatized_words[:100]\n",
    "print(len(lemmatized_words))"
   ]
  },
  {
   "cell_type": "code",
   "execution_count": 144,
   "metadata": {},
   "outputs": [
    {
     "name": "stdout",
     "output_type": "stream",
     "text": [
      "('coronavirus', 12799)\n",
      "('china', 8765)\n",
      "('new', 5012)\n",
      "('virus', 3590)\n",
      "('health', 3585)\n",
      "('case', 3297)\n",
      "('chinese', 3253)\n",
      "('february', 2880)\n",
      "('news', 2802)\n",
      "('world', 2633)\n",
      "('death', 2463)\n",
      "('people', 2236)\n",
      "('outbreak', 2181)\n",
      "('feb', 2104)\n",
      "('reuters', 2092)\n",
      "('say', 1897)\n",
      "('beijing', 1816)\n",
      "('stock', 1804)\n",
      "('cruise', 1789)\n",
      "('market', 1649)\n",
      "('novel', 1593)\n",
      "('u', 1537)\n",
      "('c', 1533)\n",
      "('first', 1529)\n",
      "('toll', 1442)\n",
      "('ap', 1405)\n",
      "('two', 1364)\n",
      "('said', 1362)\n",
      "('ship', 1345)\n",
      "('share', 1338)\n",
      "('global', 1307)\n",
      "('home', 1275)\n",
      "('singapore', 1266)\n",
      "('wuhan', 1246)\n",
      "('official', 1169)\n",
      "('government', 1160)\n",
      "('passenger', 1140)\n",
      "('hong', 1130)\n",
      "('one', 1125)\n",
      "('number', 1077)\n",
      "('kong', 1055)\n",
      "('th', 1029)\n",
      "('japan', 1021)\n",
      "('oil', 1014)\n",
      "('confirmed', 1005)\n",
      "('f', 1001)\n",
      "('corona', 1000)\n",
      "('report', 974)\n",
      "('co', 953)\n",
      "('mask', 944)\n"
     ]
    }
   ],
   "source": [
    "#top 50 words by frequency\n",
    "from nltk import FreqDist\n",
    "fdist = FreqDist(lemmatized_words)\n",
    "items = fdist.most_common(50)\n",
    "for item in items:\n",
    "    print (item)\n",
    "    "
   ]
  },
  {
   "cell_type": "code",
   "execution_count": 116,
   "metadata": {},
   "outputs": [
    {
     "name": "stdout",
     "output_type": "stream",
     "text": [
      "(('death', 'toll'), 0.002543952986655473)\n",
      "(('cruise', 'ship'), 0.002256952918322123)\n",
      "(('coronavirus', 'outbreak'), 0.0022452386298187216)\n",
      "(('hong', 'kong'), 0.0019719052314060076)\n",
      "(('world', 'health'), 0.001772762326848173)\n",
      "(('novel', 'coronavirus'), 0.0016146194320522456)\n",
      "(('new', 'coronavirus'), 0.0015970479992971427)\n",
      "(('coronavirus', 'case'), 0.0014369527230839816)\n",
      "(('hour', 'ago'), 0.0012241431486055116)\n",
      "(('health', 'organization'), 0.0010777145423129862)\n",
      "(('coronavirus', 'death'), 0.0010581907281406496)\n",
      "(('corona', 'virus'), 0.000966428801530667)\n",
      "(('virus', 'case'), 0.0009410478431066293)\n",
      "(('new', 'virus'), 0.0009312859360204609)\n",
      "(('china', 'coronavirus'), 0.000919571647517059)\n",
      "(('new', 'york'), 0.0008746668749206845)\n",
      "(('stock', 'market'), 0.0007594763713038979)\n",
      "(('new', 'case'), 0.0007516668456349632)\n",
      "(('health', 'official'), 0.0007497144642177295)\n",
      "(('face', 'mask'), 0.0007458097013832622)\n",
      "(('case', 'coronavirus'), 0.0007262858872109255)\n",
      "(('originally', 'published'), 0.0007126192172902899)\n",
      "(('new', 'delhi'), 0.0007067620730385888)\n",
      "(('china', 'virus'), 0.0006677144446939154)\n",
      "(('oil', 'price'), 0.000646238249104345)\n",
      "(('confirmed', 'case'), 0.000622809672097541)\n",
      "(('file', 'photo'), 0.0006208572906803073)\n",
      "(('china', 'reported'), 0.0005759525180839329)\n",
      "(('diamond', 'princess'), 0.0005544763224943625)\n",
      "(('beijing', 'china'), 0.0005525239410771288)\n",
      "(('toll', 'china'), 0.0005427620339909605)\n",
      "(('mobile', 'world'), 0.0005330001269047921)\n",
      "(('china', 'report'), 0.000509571549897988)\n",
      "(('post', 'originally'), 0.0004880953543084177)\n",
      "(('published', 'sit'), 0.0004880953543084177)\n",
      "(('beijing', 'ap'), 0.000480285828639483)\n",
      "(('united', 'state'), 0.00046271439588438)\n",
      "(('feb', 'reuters'), 0.00045100010738097793)\n",
      "(('outbreak', 'began'), 0.00045100010738097793)\n",
      "(('close', 'image'), 0.0004470953445465106)\n",
      "(('world', 'congress'), 0.00043733343746034224)\n",
      "(('prime', 'minister'), 0.00043538105604310856)\n",
      "(('virus', 'death'), 0.00043538105604310856)\n",
      "(('public', 'health'), 0.00043342867462587494)\n",
      "(('case', 'novel'), 0.0004275715303741739)\n",
      "(('federal', 'reserve'), 0.0004256191489569402)\n",
      "(('health', 'minister'), 0.0004256191489569402)\n",
      "(('viral', 'outbreak'), 0.0004158572418707719)\n",
      "(('xi', 'jinping'), 0.0004139048604535382)\n",
      "(('coronavirus', 'fear'), 0.00039828580911566885)\n"
     ]
    }
   ],
   "source": [
    "#top 50 bigrams by frequencies\n",
    "from nltk.collocations import *\n",
    "bigram_measures = nltk.collocations.BigramAssocMeasures()\n",
    "finder = BigramCollocationFinder.from_words(lemmatized_words)\n",
    "finder.apply_freq_filter(5)\n",
    "scored = finder.score_ngrams(bigram_measures.raw_freq)\n",
    "for bscore in scored[:50]:\n",
    "    print(bscore)\n"
   ]
  },
  {
   "cell_type": "code",
   "execution_count": 145,
   "metadata": {},
   "outputs": [
    {
     "name": "stdout",
     "output_type": "stream",
     "text": [
      "                      bigram        PMI\n",
      "0           (billie, eilish)  16.644406\n",
      "6              (minxin, pei)  16.644406\n",
      "9             (questo, sito)  16.644406\n",
      "8         (patricia, heaton)  16.644406\n",
      "7            (ngio, spinout)  16.644406\n",
      "1          (bottega, veneta)  16.644406\n",
      "5             (leila, fadel)  16.644406\n",
      "2            (brize, norton)  16.644406\n",
      "4         (kylie, maclellan)  16.644406\n",
      "3     (colecții, libertatea)  16.644406\n",
      "11      (hunkering, cramped)  16.381371\n",
      "10          (adrielly, eger)  16.381371\n",
      "12           (estee, lauder)  16.381371\n",
      "13            (hanna, ziady)  16.381371\n",
      "14       (kidambi, srikanth)  16.381371\n",
      "15          (tora, agarwala)  16.381371\n",
      "21          (minka, klaudia)  16.158979\n",
      "25            (đçăţ, üńčńďő)  16.158979\n",
      "24  (precedenti, successivi)  16.158979\n",
      "22         (nagłowki, tylko)  16.158979\n",
      "23         (preah, sihanouk)  16.158979\n",
      "20         (milicic, wasted)  16.158979\n",
      "19             (katy, perry)  16.158979\n",
      "18        (fionnula, hainey)  16.158979\n",
      "17            (casey, leins)  16.158979\n",
      "16          (anneken, tappe)  16.158979\n",
      "26         (aktuelle, seite)  16.118337\n",
      "27      (universiti, malaya)  16.118337\n",
      "38           (ilona, claude)  15.966334\n",
      "46           (zweli, mkhize)  15.966334\n",
      "45        (sulphur, dioxide)  15.966334\n",
      "44          (saffron, otter)  15.966334\n",
      "43       (rahman, kamarudin)  15.966334\n",
      "42            (pulau, bukom)  15.966334\n",
      "41            (puerto, rico)  15.966334\n",
      "40         (koh, santepheap)  15.966334\n",
      "39       (kiyoshi, takenaka)  15.966334\n",
      "32                (cma, cgm)  15.966334\n",
      "37         (hmp, bullingdon)  15.966334\n",
      "31          (claude, blouin)  15.966334\n",
      "28             (binh, xuyen)  15.966334\n",
      "36        (golfweek, rewind)  15.966334\n",
      "30        (chilkoti, gunjan)  15.966334\n",
      "29      (charly, triballeau)  15.966334\n",
      "33        (dastin, akanksha)  15.966334\n",
      "34         (devika, krishna)  15.966334\n",
      "35       (gilles, guillaume)  15.966334\n",
      "47           (nucleic, acid)  15.936586\n",
      "48        (bruno, fernandes)  15.895944\n",
      "49          (cupid, avocado)  15.895944\n"
     ]
    }
   ],
   "source": [
    "bigramPMITable = pd.DataFrame(list(finder.score_ngrams(bigram_measures.pmi)), \n",
    "                              columns=['bigram','PMI']).sort_values(by='PMI', ascending=False)\n",
    "\n",
    "print (bigramPMITable[:50])"
   ]
  },
  {
   "cell_type": "code",
   "execution_count": 118,
   "metadata": {},
   "outputs": [
    {
     "name": "stdout",
     "output_type": "stream",
     "text": [
      "<FreqDist with 60642 samples and 1008434 outcomes>\n",
      "<FreqDist with 12771 samples and 12771 outcomes>\n"
     ]
    }
   ],
   "source": [
    "#frequencyDistribution\n",
    "from nltk.probability import FreqDist\n",
    "fdist = FreqDist(tokens)\n",
    "print(fdist)\n"
   ]
  },
  {
   "cell_type": "code",
   "execution_count": 115,
   "metadata": {
    "scrolled": true
   },
   "outputs": [
    {
     "data": {
      "text/plain": [
       "[('...', 105126),\n",
       " (',', 24513),\n",
       " ('the', 20709),\n",
       " ('of', 16372),\n",
       " ('The', 14063),\n",
       " ('to', 13924),\n",
       " ('in', 12170),\n",
       " (':', 11800),\n",
       " ('a', 11606),\n",
       " ('(', 8872),\n",
       " ('China', 8636),\n",
       " ('on', 8273),\n",
       " (')', 7885),\n",
       " ('coronavirus', 7572),\n",
       " ('and', 6893),\n",
       " ('is', 6761),\n",
       " ('A', 6270),\n",
       " ('has', 6230),\n",
       " ('for', 5292),\n",
       " ('Coronavirus', 5061),\n",
       " (\"'s\", 5021),\n",
       " ('2020', 4656),\n",
       " ('-', 4637),\n",
       " ('’', 4284),\n",
       " ('from', 4074),\n",
       " ('s', 3958),\n",
       " ('are', 3683),\n",
       " ('By', 3553),\n",
       " ('at', 3424),\n",
       " ('.', 3266),\n",
       " ('Chinese', 3226),\n",
       " ('new', 3091),\n",
       " ('have', 3077),\n",
       " ('as', 3007),\n",
       " ('February', 2855),\n",
       " ('virus', 2778),\n",
       " ('that', 2700),\n",
       " ('—', 2621),\n",
       " ('by', 2528),\n",
       " ('Health', 2331),\n",
       " ('with', 2321),\n",
       " ('1', 2199),\n",
       " ('cases', 2154),\n",
       " ('--', 2077),\n",
       " ('Feb', 2050),\n",
       " ('t', 2012),\n",
       " ('will', 2008),\n",
       " ('Reuters', 1974),\n",
       " ('outbreak', 1923),\n",
       " ('|', 1914)]"
      ]
     },
     "execution_count": 115,
     "metadata": {},
     "output_type": "execute_result"
    }
   ],
   "source": [
    "fdist.most_common(50)"
   ]
  },
  {
   "cell_type": "code",
   "execution_count": 114,
   "metadata": {},
   "outputs": [
    {
     "data": {
      "image/png": "[encoded data removed]",
      "text/plain": [
       "<Figure size 432x288 with 1 Axes>"
      ]
     },
     "metadata": {
      "needs_background": "light"
     },
     "output_type": "display_data"
    }
   ],
   "source": [
    "#frequencyDistribution - Plot\n",
    "import matplotlib.pyplot as plt\n",
    "fdist.plot(50,cumulative=False)\n",
    "plt.show()"
   ]
  },
  {
   "cell_type": "code",
   "execution_count": 124,
   "metadata": {},
   "outputs": [
    {
     "name": "stdout",
     "output_type": "stream",
     "text": [
      "<FreqDist with 12771 samples and 12771 outcomes>\n"
     ]
    },
    {
     "data": {
      "text/plain": [
       "[((('death', 'toll'), 0.002543952986655473), 1),\n",
       " ((('cruise', 'ship'), 0.002256952918322123), 1),\n",
       " ((('coronavirus', 'outbreak'), 0.0022452386298187216), 1),\n",
       " ((('hong', 'kong'), 0.0019719052314060076), 1),\n",
       " ((('world', 'health'), 0.001772762326848173), 1),\n",
       " ((('novel', 'coronavirus'), 0.0016146194320522456), 1),\n",
       " ((('new', 'coronavirus'), 0.0015970479992971427), 1),\n",
       " ((('coronavirus', 'case'), 0.0014369527230839816), 1),\n",
       " ((('hour', 'ago'), 0.0012241431486055116), 1),\n",
       " ((('health', 'organization'), 0.0010777145423129862), 1),\n",
       " ((('coronavirus', 'death'), 0.0010581907281406496), 1),\n",
       " ((('corona', 'virus'), 0.000966428801530667), 1),\n",
       " ((('virus', 'case'), 0.0009410478431066293), 1),\n",
       " ((('new', 'virus'), 0.0009312859360204609), 1),\n",
       " ((('china', 'coronavirus'), 0.000919571647517059), 1),\n",
       " ((('new', 'york'), 0.0008746668749206845), 1),\n",
       " ((('stock', 'market'), 0.0007594763713038979), 1),\n",
       " ((('new', 'case'), 0.0007516668456349632), 1),\n",
       " ((('health', 'official'), 0.0007497144642177295), 1),\n",
       " ((('face', 'mask'), 0.0007458097013832622), 1),\n",
       " ((('case', 'coronavirus'), 0.0007262858872109255), 1),\n",
       " ((('originally', 'published'), 0.0007126192172902899), 1),\n",
       " ((('new', 'delhi'), 0.0007067620730385888), 1),\n",
       " ((('china', 'virus'), 0.0006677144446939154), 1),\n",
       " ((('oil', 'price'), 0.000646238249104345), 1),\n",
       " ((('confirmed', 'case'), 0.000622809672097541), 1),\n",
       " ((('file', 'photo'), 0.0006208572906803073), 1),\n",
       " ((('china', 'reported'), 0.0005759525180839329), 1),\n",
       " ((('diamond', 'princess'), 0.0005544763224943625), 1),\n",
       " ((('beijing', 'china'), 0.0005525239410771288), 1),\n",
       " ((('toll', 'china'), 0.0005427620339909605), 1),\n",
       " ((('mobile', 'world'), 0.0005330001269047921), 1),\n",
       " ((('china', 'report'), 0.000509571549897988), 1),\n",
       " ((('post', 'originally'), 0.0004880953543084177), 1),\n",
       " ((('published', 'sit'), 0.0004880953543084177), 1),\n",
       " ((('beijing', 'ap'), 0.000480285828639483), 1),\n",
       " ((('united', 'state'), 0.00046271439588438), 1),\n",
       " ((('feb', 'reuters'), 0.00045100010738097793), 1),\n",
       " ((('outbreak', 'began'), 0.00045100010738097793), 1),\n",
       " ((('close', 'image'), 0.0004470953445465106), 1),\n",
       " ((('world', 'congress'), 0.00043733343746034224), 1),\n",
       " ((('prime', 'minister'), 0.00043538105604310856), 1),\n",
       " ((('virus', 'death'), 0.00043538105604310856), 1),\n",
       " ((('public', 'health'), 0.00043342867462587494), 1),\n",
       " ((('case', 'novel'), 0.0004275715303741739), 1),\n",
       " ((('federal', 'reserve'), 0.0004256191489569402), 1),\n",
       " ((('health', 'minister'), 0.0004256191489569402), 1),\n",
       " ((('viral', 'outbreak'), 0.0004158572418707719), 1),\n",
       " ((('xi', 'jinping'), 0.0004139048604535382), 1),\n",
       " ((('coronavirus', 'fear'), 0.00039828580911566885), 1)]"
      ]
     },
     "execution_count": 124,
     "metadata": {},
     "output_type": "execute_result"
    }
   ],
   "source": [
    "#forbigrams\n",
    "from nltk.probability import FreqDist\n",
    "fdist1 = FreqDist(scored)\n",
    "print(fdist1)\n",
    "fdist1.most_common(50)"
   ]
  },
  {
   "cell_type": "code",
   "execution_count": 127,
   "metadata": {},
   "outputs": [
    {
     "data": {
      "text/html": [
       "<div>\n",
       "<style scoped>\n",
       "    .dataframe tbody tr th:only-of-type {\n",
       "        vertical-align: middle;\n",
       "    }\n",
       "\n",
       "    .dataframe tbody tr th {\n",
       "        vertical-align: top;\n",
       "    }\n",
       "\n",
       "    .dataframe thead th {\n",
       "        text-align: right;\n",
       "    }\n",
       "</style>\n",
       "<table border=\"1\" class=\"dataframe\">\n",
       "  <thead>\n",
       "    <tr style=\"text-align: right;\">\n",
       "      <th></th>\n",
       "      <th>social.facebook.comments</th>\n",
       "      <th>social.facebook.shares</th>\n",
       "      <th>social.facebook.likes</th>\n",
       "      <th>title</th>\n",
       "      <th>published</th>\n",
       "      <th>replies_count</th>\n",
       "      <th>url</th>\n",
       "      <th>country</th>\n",
       "      <th>author</th>\n",
       "      <th>text</th>\n",
       "    </tr>\n",
       "  </thead>\n",
       "  <tbody>\n",
       "    <tr>\n",
       "      <th>0</th>\n",
       "      <td>2</td>\n",
       "      <td>1</td>\n",
       "      <td>2</td>\n",
       "      <td>Nigeria To Spend N620m On Coronavirus Preventi...</td>\n",
       "      <td>2020-02-08T21:05:00.000+02:00</td>\n",
       "      <td>0</td>\n",
       "      <td>https://www.informationng.com/2020/02/nigeria-...</td>\n",
       "      <td>US</td>\n",
       "      <td>Olayemi Oladotun</td>\n",
       "      <td>Nigeria To Spend N620m On Coronavirus Preventi...</td>\n",
       "    </tr>\n",
       "    <tr>\n",
       "      <th>1</th>\n",
       "      <td>0</td>\n",
       "      <td>0</td>\n",
       "      <td>0</td>\n",
       "      <td>After White House Meeting, Oil Execs Put in Ca...</td>\n",
       "      <td>2020-02-07T21:46:00.000+02:00</td>\n",
       "      <td>0</td>\n",
       "      <td>https://my.gvtc.com/news/read/category/news/ar...</td>\n",
       "      <td>US</td>\n",
       "      <td>Newser — Newser Editors</td>\n",
       "      <td>The situation has apparently worsened for six ...</td>\n",
       "    </tr>\n",
       "    <tr>\n",
       "      <th>2</th>\n",
       "      <td>0</td>\n",
       "      <td>0</td>\n",
       "      <td>0</td>\n",
       "      <td>Doctor killed by coronavirus 'a symbol of tran...</td>\n",
       "      <td>2020-02-07T02:00:00.000+02:00</td>\n",
       "      <td>0</td>\n",
       "      <td>https://uk.news.yahoo.com/coronavirus-quaranti...</td>\n",
       "      <td>GB</td>\n",
       "      <td>Sky video</td>\n",
       "      <td>Doctor killed by coronavirus 'a symbol of tran...</td>\n",
       "    </tr>\n",
       "  </tbody>\n",
       "</table>\n",
       "</div>"
      ],
      "text/plain": [
       "   social.facebook.comments  social.facebook.shares  social.facebook.likes  \\\n",
       "0                         2                       1                      2   \n",
       "1                         0                       0                      0   \n",
       "2                         0                       0                      0   \n",
       "\n",
       "                                               title  \\\n",
       "0  Nigeria To Spend N620m On Coronavirus Preventi...   \n",
       "1  After White House Meeting, Oil Execs Put in Ca...   \n",
       "2  Doctor killed by coronavirus 'a symbol of tran...   \n",
       "\n",
       "                       published  replies_count  \\\n",
       "0  2020-02-08T21:05:00.000+02:00              0   \n",
       "1  2020-02-07T21:46:00.000+02:00              0   \n",
       "2  2020-02-07T02:00:00.000+02:00              0   \n",
       "\n",
       "                                                 url country  \\\n",
       "0  https://www.informationng.com/2020/02/nigeria-...      US   \n",
       "1  https://my.gvtc.com/news/read/category/news/ar...      US   \n",
       "2  https://uk.news.yahoo.com/coronavirus-quaranti...      GB   \n",
       "\n",
       "                    author                                               text  \n",
       "0         Olayemi Oladotun  Nigeria To Spend N620m On Coronavirus Preventi...  \n",
       "1  Newser — Newser Editors  The situation has apparently worsened for six ...  \n",
       "2                Sky video  Doctor killed by coronavirus 'a symbol of tran...  "
      ]
     },
     "execution_count": 127,
     "metadata": {},
     "output_type": "execute_result"
    }
   ],
   "source": [
    "#interpretation of results\n",
    "feed = pd.read_csv('out_final.csv')\n",
    "feed.head(3)                       #printing csv to show how many columns exist here"
   ]
  },
  {
   "cell_type": "code",
   "execution_count": 134,
   "metadata": {},
   "outputs": [
    {
     "data": {
      "text/plain": [
       "<matplotlib.axes._subplots.AxesSubplot at 0x11b64ab28b0>"
      ]
     },
     "execution_count": 134,
     "metadata": {},
     "output_type": "execute_result"
    },
    {
     "data": {
      "image/png": "[encoded data removed]",
      "text/plain": [
       "<Figure size 432x288 with 1 Axes>"
      ]
     },
     "metadata": {
      "needs_background": "light"
     },
     "output_type": "display_data"
    }
   ],
   "source": [
    "# number of characters present in each sentence of the text in feed.\n",
    "# sentennce level analysis\n",
    "feed['text'].str.len().hist()"
   ]
  },
  {
   "cell_type": "code",
   "execution_count": 130,
   "metadata": {},
   "outputs": [
    {
     "name": "stderr",
     "output_type": "stream",
     "text": [
      "C:\\Users\\kriti\\anaconda3\\lib\\site-packages\\numpy\\core\\fromnumeric.py:3334: RuntimeWarning: Mean of empty slice.\n",
      "  return _methods._mean(a, axis=axis, dtype=dtype,\n",
      "C:\\Users\\kriti\\anaconda3\\lib\\site-packages\\numpy\\core\\_methods.py:161: RuntimeWarning: invalid value encountered in double_scalars\n",
      "  ret = ret.dtype.type(ret / rcount)\n"
     ]
    },
    {
     "data": {
      "text/plain": [
       "<matplotlib.axes._subplots.AxesSubplot at 0x11d45e26850>"
      ]
     },
     "execution_count": 130,
     "metadata": {},
     "output_type": "execute_result"
    },
    {
     "data": {
      "image/png": "[encoded data removed]",
      "text/plain": [
       "<Figure size 432x288 with 1 Axes>"
      ]
     },
     "metadata": {
      "needs_background": "light"
     },
     "output_type": "display_data"
    }
   ],
   "source": [
    "# word level analysis\n",
    "feed['text'].str.split().\\\n",
    "   apply(lambda x : [len(i) for i in x]). \\\n",
    "   map(lambda x: np.mean(x)).hist()"
   ]
  },
  {
   "cell_type": "code",
   "execution_count": 139,
   "metadata": {},
   "outputs": [
    {
     "data": {
      "image/png": "[encoded data removed]",
      "text/plain": [
       "<Figure size 432x288 with 1 Axes>"
      ]
     },
     "metadata": {
      "needs_background": "light"
     },
     "output_type": "display_data"
    }
   ],
   "source": [
    "import pandas as pd\n",
    "feed = pd.read_csv('out_final.csv')\n",
    "\n",
    "# Snippet for Top Stopwords Barchart\n",
    "\n",
    "import matplotlib.pyplot as plt\n",
    "import numpy as np\n",
    "from nltk.corpus import stopwords\n",
    "\n",
    "def plot_top_stopwords_barchart(text):\n",
    "    stop=set(stopwords.words('english'))\n",
    "    \n",
    "    new= text.str.split()\n",
    "    new=new.values.tolist()\n",
    "    corpus=[word for i in new for word in i]\n",
    "    from collections import defaultdict\n",
    "    dic=defaultdict(int)\n",
    "    for word in corpus:\n",
    "        if word in stop:\n",
    "            dic[word]+=1\n",
    "            \n",
    "    top=sorted(dic.items(), key=lambda x:x[1],reverse=True)[:10] \n",
    "    x,y=zip(*top)\n",
    "    plt.bar(x,y)\n",
    "\n",
    "plot_top_stopwords_barchart(news['text'])\n"
   ]
  },
  {
   "cell_type": "code",
   "execution_count": 141,
   "metadata": {},
   "outputs": [
    {
     "data": {
      "image/png": "[encoded data removed]",
      "text/plain": [
       "<Figure size 432x288 with 1 Axes>"
      ]
     },
     "metadata": {
      "needs_background": "light"
     },
     "output_type": "display_data"
    }
   ],
   "source": [
    "# Code Snippet for Top Non-Stopwords Barchart\n",
    "import pandas as pd\n",
    "import seaborn as sns\n",
    "from nltk.corpus import stopwords\n",
    "from collections import  Counter\n",
    "\n",
    "feed = pd.read_csv('out_final.csv')\n",
    "def plot_top_non_stopwords_barchart(text):\n",
    "    stop=set(stopwords.words('english'))\n",
    "    \n",
    "    new= text.str.split()\n",
    "    new=new.values.tolist()\n",
    "    corpus=[word for i in new for word in i]\n",
    "    counter=Counter(corpus)\n",
    "    most=counter.most_common()\n",
    "    x, y=[], []\n",
    "    for word,count in most[:40]:\n",
    "        if (word not in stop):\n",
    "            x.append(word)\n",
    "            y.append(count)\n",
    "            \n",
    "    sns.barplot(x=y,y=x)\n",
    "\n",
    "plot_top_non_stopwords_barchart(news['text'])\n"
   ]
  },
  {
   "cell_type": "code",
   "execution_count": null,
   "metadata": {},
   "outputs": [],
   "source": []
  }
 ],
 "metadata": {
  "kernelspec": {
   "display_name": "Python 3",
   "language": "python",
   "name": "python3"
  },
  "language_info": {
   "codemirror_mode": {
    "name": "ipython",
    "version": 3
   },
   "file_extension": ".py",
   "mimetype": "text/x-python",
   "name": "python",
   "nbconvert_exporter": "python",
   "pygments_lexer": "ipython3",
   "version": "3.8.3"
  }
 },
 "nbformat": 4,
 "nbformat_minor": 4
}
